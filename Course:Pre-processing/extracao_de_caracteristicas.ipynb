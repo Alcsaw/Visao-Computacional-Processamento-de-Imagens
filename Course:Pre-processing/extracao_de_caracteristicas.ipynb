{
  "nbformat": 4,
  "nbformat_minor": 0,
  "metadata": {
    "colab": {
      "name": "extracao_de_caracteristicas.ipynb",
      "version": "0.3.2",
      "provenance": [],
      "collapsed_sections": []
    },
    "kernelspec": {
      "name": "python3",
      "display_name": "Python 3"
    },
    "accelerator": "GPU"
  },
  "cells": [
    {
      "cell_type": "code",
      "metadata": {
        "id": "EtRojdzzzVfW",
        "colab_type": "code",
        "colab": {}
      },
      "source": [
        "from google.colab import drive\n",
        "drive.mount('/content/drive')"
      ],
      "execution_count": 0,
      "outputs": []
    },
    {
      "cell_type": "code",
      "metadata": {
        "id": "q3ZhhOJLzLq0",
        "colab_type": "code",
        "colab": {}
      },
      "source": [
        "# Importação das bibliotecas necessárias\n",
        "import cv2\n",
        "import numpy as np\n",
        "from matplotlib import pyplot as plt\n",
        "import os\n",
        "from sklearn.neighbors import NearestNeighbors\n",
        "from sklearn.neighbors import KNeighborsClassifier\n",
        "from sklearn.cluster import KMeans"
      ],
      "execution_count": 0,
      "outputs": []
    },
    {
      "cell_type": "code",
      "metadata": {
        "id": "EBbRVDp6xtGG",
        "colab_type": "code",
        "colab": {}
      },
      "source": [
        "def bovw_gerarDicionario(lista_descritores):\n",
        "\n",
        "    kmeans = KMeans(n_clusters = 256)\n",
        "    kmeans = kmeans.fit(lista_descritores)\n",
        "    global dicionario\n",
        "    dicionario = kmeans.cluster_centers_"
      ],
      "execution_count": 0,
      "outputs": []
    },
    {
      "cell_type": "code",
      "metadata": {
        "id": "jU7GECcVyCBX",
        "colab_type": "code",
        "colab": {}
      },
      "source": [
        "def getDescritores(img_caminho):\n",
        "    ALTURA = 360\n",
        "    LARGURA = 360\n",
        "\n",
        "    # Ler imagens\n",
        "    img_teste = cv2.imread(img_caminho) #RGB\n",
        "    img_cinza = cv2.cvtColor(img_teste, cv2.COLOR_BGR2GRAY)\n",
        "    #img_teste = cv2.imread('Img_test1.png',0) #GRAY SCALE\n",
        "\n",
        "    # Redimensionar\n",
        "    img_redimencionada = cv2.resize(img_cinza, (LARGURA, ALTURA),interpolation=cv2.INTER_CUBIC)\n",
        "\n",
        "    # Remover o ruído (suavizar a imagem)\n",
        "    img_suavizada = cv2.GaussianBlur(img_redimencionada, (7,7),1)\n",
        "    img_equalizada = cv2.equalizeHist(img_suavizada)\n",
        "\n",
        "    orb = cv2.ORB_create(nfeatures = 512)\n",
        "\n",
        "    # Determinar key points\n",
        "    pontos_chave = orb.detect(img_equalizada, None)\n",
        "\n",
        "    pontos_chave, descritores = orb.compute(img_equalizada, pontos_chave)\n",
        "\n",
        "    return descritores"
      ],
      "execution_count": 0,
      "outputs": []
    },
    {
      "cell_type": "code",
      "metadata": {
        "id": "ABN-Zj_LyuzP",
        "colab_type": "code",
        "colab": {}
      },
      "source": [
        "def bovw_computarDescritores(descritores):\n",
        "    algoritmo_knn = NearestNeighbors(n_neighbors=1)\n",
        "    algoritmo_knn.fit(dicionario)\n",
        "    res = algoritmo_knn.kneighbors(descritores, return_distance=False).flatten()\n",
        "    histograma_caracteristicas = np.histogram(res, bins=np.arange(dicionario.shape[0]))[0]\n",
        "    return histograma_caracteristicas"
      ],
      "execution_count": 0,
      "outputs": []
    },
    {
      "cell_type": "code",
      "metadata": {
        "id": "oxGhqK7B2f-a",
        "colab_type": "code",
        "colab": {}
      },
      "source": [
        "def salvarDescritores(descritores, caminho):\n",
        "    descritores = descritores.reshape((1,descritores.size))\n",
        "\n",
        "    arquivo=open(os.path.join(caminho, 'orb_descritores.csv'),'a')\n",
        "\n",
        "    np.savetxt(arquivo, descritores, delimiter=',', fmt='%i')\n",
        "    arquivo.close()"
      ],
      "execution_count": 0,
      "outputs": []
    },
    {
      "cell_type": "markdown",
      "metadata": {
        "id": "9Tq6y2ut2VRP",
        "colab_type": "text"
      },
      "source": [
        "# MAIN - Geração de características"
      ]
    },
    {
      "cell_type": "code",
      "metadata": {
        "id": "ZqE-eTpZy1pf",
        "colab_type": "code",
        "colab": {}
      },
      "source": [
        "global dicionario\n",
        "\n",
        "dados_treinamento = ['drive/My Drive/Aulas_alura/INRIAPerson_Dataset/treinamento/positivos/',\n",
        "'drive/My Drive/Aulas_alura/INRIAPerson_Dataset/treinamento/negativos/']\n",
        "\n",
        "# Rotina para criação do dicionário de palavras virtuais\n",
        "descritores = np.empty((0,32), dtype=np.uint8)\n",
        "for caminho in dados_treinamento:\n",
        "\n",
        "    # r=raiz, d=diretorios, a = arquivos\n",
        "    for r, d, a in os.walk(caminho):\n",
        "        for arquivo in a: #Somente 400 exemplos positivos e 400 exemplos negativos\n",
        "            if '.png' in arquivo:\n",
        "                orb_descritor = getDescritores(os.path.join(r, arquivo))\n",
        "                descritores = np.append(descritores, orb_descritor, axis=0)\n",
        "\n",
        "# Bag of Visual words - gerar dicionário de palavras\n",
        "bovw_gerarDicionario(descritores)"
      ],
      "execution_count": 0,
      "outputs": []
    },
    {
      "cell_type": "code",
      "metadata": {
        "id": "RaMsf1je2ZwL",
        "colab_type": "code",
        "colab": {}
      },
      "source": [
        "# computar descritores de cada imagem separadamente\n",
        "for caminho in dados_treinamento:\n",
        "    # r=raiz, d=diretorios, a = arquivos\n",
        "    for r, d, a in os.walk(caminho):\n",
        "        for arquivo in a: #Somente 400 exemplos positivos e 400 exemplos negativos\n",
        "            if '.png' in arquivo:\n",
        "                descritor = getDescritores(os.path.join(r, arquivo))\n",
        "                hitograma_descritor = bovw_computarDescritores(descritor)\n",
        "                salvarDescritores(hitograma_descritor, caminho)"
      ],
      "execution_count": 0,
      "outputs": []
    },
    {
      "cell_type": "markdown",
      "metadata": {
        "id": "sEdFyBPm2xRl",
        "colab_type": "text"
      },
      "source": [
        "# Rotina de classificação"
      ]
    },
    {
      "cell_type": "code",
      "metadata": {
        "id": "V-whmb6P2t95",
        "colab_type": "code",
        "colab": {}
      },
      "source": [
        "def carregarDescritores(caminho):\n",
        "\n",
        "    descritores = np.loadtxt(os.path.join(caminho, 'orb_descritores.csv'), delimiter=',')\n",
        "    return descritores"
      ],
      "execution_count": 0,
      "outputs": []
    },
    {
      "cell_type": "code",
      "metadata": {
        "id": "4q_5k5hZ3Cd7",
        "colab_type": "code",
        "colab": {}
      },
      "source": [
        "dados_teste = ['drive/My Drive/Aulas_alura/INRIAPerson_Dataset/teste/positivos/',\n",
        "'drive/My Drive/Aulas_alura/INRIAPerson_Dataset/teste/negativos/']\n",
        "\n",
        "#Carregar os descritores salvos\n",
        "descritores = np.empty((0,255))\n",
        "for caminho in dados_treinamento:\n",
        "    descritores = np.append(descritores, carregarDescritores(caminho), axis=0)\n",
        "\n",
        "#KNN para classificar as imagens\n",
        "\n",
        "rotulos = np.ones(400, dtype=np.uint8) #Rotular as primeiras 400 caracteristicas como 1 - Exemplos sem imagem\n",
        "rotulos = np.append(rotulos, np.zeros(400)) #Rotular as outras 400 como zero - Exemplos sem imagem\n",
        "\n",
        "knn = KNeighborsClassifier(n_neighbors=5)\n",
        "knn.fit(descritores, rotulos)\n",
        "\n",
        "# Ler imagens. 50 positivas e 50 negativas\n",
        "\n",
        "img_testDescritores = np.empty((0,255), dtype=np.uint8)\n",
        "for caminho in dados_teste:\n",
        "\n",
        "    # r=raiz, d=diretorios, a = arquivos\n",
        "    for r, d, a in os.walk(caminho):\n",
        "        for arquivo in a:\n",
        "            if '.png' in arquivo:\n",
        "                img_descritor = getDescritores(os.path.join(r, arquivo))\n",
        "                img_descritor = bovw_computarDescritores(img_descritor)\n",
        "                img_dim_expandida = np.expand_dims(img_descritor, axis=0)\n",
        "                img_testDescritores = np.append(img_testDescritores, img_dim_expandida, axis=0)\n",
        "\n",
        "rotulos_teste = np.concatenate((np.ones(100, dtype=np.uint8), np.zeros(100, dtype=np.uint8))) \n",
        "print(knn.score(img_testDescritores, rotulos_teste))"
      ],
      "execution_count": 0,
      "outputs": []
    }
  ]
}